{
 "cells": [
  {
   "cell_type": "code",
   "execution_count": 1,
   "metadata": {},
   "outputs": [],
   "source": [
    "import pandas as pd\n",
    "import numpy as np\n",
    "import matplotlib.pyplot as plt"
   ]
  },
  {
   "cell_type": "code",
   "execution_count": 70,
   "metadata": {},
   "outputs": [
    {
     "data": {
      "text/plain": [
       "[99.0351481736733, 101.30944176430049, 99.65541006202619]"
      ]
     },
     "execution_count": 70,
     "metadata": {},
     "output_type": "execute_result"
    }
   ],
   "source": [
    "#Definimos el nombre de los controles\n",
    "control_570_name_A = \"Abs_570_G\"\n",
    "control_690_name_A = \"Abs_690_G\"\n",
    "\n",
    "control_570_name_D = \"Abs_570_H\"\n",
    "control_690_name_D = \"Abs_690_H\"\n",
    "#Cargamos el archivo con los resultados del ensayo\n",
    "df = pd.read_csv(\"ensayo_mtt.csv\")\n",
    "del df['Unnamed: 0']\n",
    "sub_sample = df[(df.select_dtypes(include=['number']) != 0).any(1)].copy()\n",
    "sub_sample.reset_index(inplace = True)\n",
    "del sub_sample[\"index\"]\n",
    "\n",
    "#Cargamos los controlores\n",
    "control_570_A = sub_sample.loc[:, control_570_name_A].copy()\n",
    "control_690_A = sub_sample.loc[:, control_690_name_A].copy()\n",
    "\n",
    "control_570_D = sub_sample.loc[:, control_570_name_D].copy()\n",
    "control_690_D = sub_sample.loc[:, control_690_name_D].copy()\n",
    "\n",
    "\n",
    "substraction_control_A = []\n",
    "substraction_control_D = []\n",
    "#ciclo para hacer la resta entre los controles (se necesita para hacer una regla de tres)\n",
    "for i in range(0, len(control_570_A)):\n",
    "    substraction_control_A.append(control_570_A.loc[i] - control_690_A.loc[i])\n",
    "    substraction_control_D.append(control_570_D.loc[i] - control_690_D.loc[i])\n",
    "substraction_control_A = np.array(substraction_control_A)\n",
    "substraction_control_D = np.array(substraction_control_D)\n",
    "\n",
    "mean_control_A = substraction_control_A.mean()\n",
    "mean_control_D = substraction_control_D.mean()\n",
    "\n",
    "control_percent_A = []\n",
    "control_percent_D = []\n",
    "#Porcentaje de lamedia con los dos controles\n",
    "for i in range(0, len(control_570_A)):\n",
    "    control_percent_A.append( (substraction_control_A[i] *100)/mean_control_A)\n",
    "    control_percent_D.append( (substraction_control_D[i] *100)/mean_control_A)\n",
    "#removemos los controles de la submuestra, ya sacamos los numeros que necesitamos de ellos\n",
    "del sub_sample[control_570_name_A]\n",
    "del sub_sample[control_690_name_A]\n",
    "del sub_sample[control_570_name_D]\n",
    "del sub_sample[control_690_name_D]\n",
    "\n",
    "\n",
    "num_columns = len(sub_sample.columns) - 4 #quitamos  las cuatro columnas del control\n",
    "pozos = len(sub_sample.index) #hasta donde corren los renglones\n",
    "abs_subs = []\n",
    "abs_prom = np.zeros([pozos, num_columns])\n",
    "#hacemos la substraccion de las absorbancias entre 570nm y 690nm\n",
    "for j in range(0, pozos):\n",
    "    for k in range(0, num_columns - 2):\n",
    "        abs_subs.append(sub_sample.iloc[j, 2*k] -  sub_sample.iloc[j, (2*k) + 1])\n",
    "\n",
    "\n",
    "        \n",
    "#calculamos una regla de tres para sacar la diferencia porcentual entre las restas y el promedio del control de las \n",
    "#celulas muertas\n",
    "\n",
    "viabilidad = []\n",
    "\n",
    "for abs_ in abs_subs:\n",
    "    viabilidad.append( (abs_ * 100) / mean_control_A)\n",
    "\n",
    "    \n",
    "viabilidad = np.reshape(viabilidad, (pozos, num_columns - 2))\n",
    "lon = viabilidad.shape[1]\n",
    "viab_mean = np.zeros(lon)\n",
    "for i in range(0, lon):\n",
    "    viab_mean[i] = viabilidad[:, i].mean()\n",
    "    \n",
    "\n",
    "    \n",
    "out_df = pd.DataFrame(viabilidad, columns = )"
   ]
  },
  {
   "cell_type": "code",
   "execution_count": 14,
   "metadata": {},
   "outputs": [
    {
     "data": {
      "text/plain": [
       "52.515506547208815"
      ]
     },
     "execution_count": 14,
     "metadata": {},
     "output_type": "execute_result"
    }
   ],
   "source": [
    "(abs_subs[9] * 100) / mean_control_A"
   ]
  },
  {
   "cell_type": "code",
   "execution_count": 69,
   "metadata": {},
   "outputs": [
    {
     "data": {
      "text/plain": [
       "array([0.305, 0.303, 0.296])"
      ]
     },
     "execution_count": 69,
     "metadata": {},
     "output_type": "execute_result"
    }
   ],
   "source": [
    "substraction_control_D[0]"
   ]
  },
  {
   "cell_type": "code",
   "execution_count": 23,
   "metadata": {},
   "outputs": [
    {
     "name": "stdout",
     "output_type": "stream",
     "text": [
      "52.515506547208815\n",
      "0.254\n"
     ]
    }
   ],
   "source": [
    "print(viabilidad[9])\n",
    "print(abs_subs[9])"
   ]
  },
  {
   "cell_type": "code",
   "execution_count": 71,
   "metadata": {},
   "outputs": [
    {
     "data": {
      "text/plain": [
       "[63.059958649207424, 62.64645072363886, 61.19917298414885]"
      ]
     },
     "execution_count": 71,
     "metadata": {},
     "output_type": "execute_result"
    }
   ],
   "source": [
    "control_percent_D"
   ]
  },
  {
   "cell_type": "code",
   "execution_count": 62,
   "metadata": {},
   "outputs": [
    {
     "name": "stdout",
     "output_type": "stream",
     "text": [
      "[55.61681599 53.96278429 59.33838732]\n",
      "[59.13163336 57.06409373 59.75189524]\n",
      "[51.48173673 54.16953825 60.5789111 ]\n",
      "[49.41419711 52.51550655 58.71812543]\n",
      "[56.85733977 53.54927636 59.95864921]\n",
      "[56.23707788 58.92487939 59.13163336]\n"
     ]
    }
   ],
   "source": [
    "for i in range(0, lon):\n",
    "    print(a[:, i])"
   ]
  },
  {
   "cell_type": "code",
   "execution_count": 73,
   "metadata": {},
   "outputs": [
    {
     "data": {
      "text/plain": [
       "array([56.30599586, 58.64920744, 55.41006203, 53.54927636, 56.78842178,\n",
       "       58.09786354])"
      ]
     },
     "execution_count": 73,
     "metadata": {},
     "output_type": "execute_result"
    }
   ],
   "source": [
    "viab_mean"
   ]
  },
  {
   "cell_type": "code",
   "execution_count": 59,
   "metadata": {},
   "outputs": [
    {
     "data": {
      "text/plain": [
       "6"
      ]
     },
     "execution_count": 59,
     "metadata": {},
     "output_type": "execute_result"
    }
   ],
   "source": [
    "a.shape[1]"
   ]
  },
  {
   "cell_type": "code",
   "execution_count": 63,
   "metadata": {},
   "outputs": [
    {
     "data": {
      "text/plain": [
       "56.30599586492074"
      ]
     },
     "execution_count": 63,
     "metadata": {},
     "output_type": "execute_result"
    }
   ],
   "source": [
    "a[:,0].mean()"
   ]
  },
  {
   "cell_type": "code",
   "execution_count": null,
   "metadata": {},
   "outputs": [],
   "source": []
  }
 ],
 "metadata": {
  "kernelspec": {
   "display_name": "Python 3",
   "language": "python",
   "name": "python3"
  },
  "language_info": {
   "codemirror_mode": {
    "name": "ipython",
    "version": 3
   },
   "file_extension": ".py",
   "mimetype": "text/x-python",
   "name": "python",
   "nbconvert_exporter": "python",
   "pygments_lexer": "ipython3",
   "version": "3.7.3"
  }
 },
 "nbformat": 4,
 "nbformat_minor": 4
}
