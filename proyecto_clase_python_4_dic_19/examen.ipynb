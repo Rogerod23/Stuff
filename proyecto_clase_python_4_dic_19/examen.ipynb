{
 "cells": [
  {
   "cell_type": "code",
   "execution_count": 1,
   "metadata": {},
   "outputs": [
    {
     "name": "stderr",
     "output_type": "stream",
     "text": [
      "C:\\Users\\Rogelio\\Anaconda3\\lib\\site-packages\\tensorflow\\python\\framework\\dtypes.py:526: FutureWarning: Passing (type, 1) or '1type' as a synonym of type is deprecated; in a future version of numpy, it will be understood as (type, (1,)) / '(1,)type'.\n",
      "  _np_qint8 = np.dtype([(\"qint8\", np.int8, 1)])\n",
      "C:\\Users\\Rogelio\\Anaconda3\\lib\\site-packages\\tensorflow\\python\\framework\\dtypes.py:527: FutureWarning: Passing (type, 1) or '1type' as a synonym of type is deprecated; in a future version of numpy, it will be understood as (type, (1,)) / '(1,)type'.\n",
      "  _np_quint8 = np.dtype([(\"quint8\", np.uint8, 1)])\n",
      "C:\\Users\\Rogelio\\Anaconda3\\lib\\site-packages\\tensorflow\\python\\framework\\dtypes.py:528: FutureWarning: Passing (type, 1) or '1type' as a synonym of type is deprecated; in a future version of numpy, it will be understood as (type, (1,)) / '(1,)type'.\n",
      "  _np_qint16 = np.dtype([(\"qint16\", np.int16, 1)])\n",
      "C:\\Users\\Rogelio\\Anaconda3\\lib\\site-packages\\tensorflow\\python\\framework\\dtypes.py:529: FutureWarning: Passing (type, 1) or '1type' as a synonym of type is deprecated; in a future version of numpy, it will be understood as (type, (1,)) / '(1,)type'.\n",
      "  _np_quint16 = np.dtype([(\"quint16\", np.uint16, 1)])\n",
      "C:\\Users\\Rogelio\\Anaconda3\\lib\\site-packages\\tensorflow\\python\\framework\\dtypes.py:530: FutureWarning: Passing (type, 1) or '1type' as a synonym of type is deprecated; in a future version of numpy, it will be understood as (type, (1,)) / '(1,)type'.\n",
      "  _np_qint32 = np.dtype([(\"qint32\", np.int32, 1)])\n",
      "C:\\Users\\Rogelio\\Anaconda3\\lib\\site-packages\\tensorflow\\python\\framework\\dtypes.py:535: FutureWarning: Passing (type, 1) or '1type' as a synonym of type is deprecated; in a future version of numpy, it will be understood as (type, (1,)) / '(1,)type'.\n",
      "  np_resource = np.dtype([(\"resource\", np.ubyte, 1)])\n"
     ]
    }
   ],
   "source": [
    "import numpy as np\n",
    "import pandas as pd\n",
    "import matplotlib.pyplot as plt\n",
    "import mwinai as mw\n",
    "import corner"
   ]
  },
  {
   "cell_type": "code",
   "execution_count": 53,
   "metadata": {},
   "outputs": [
    {
     "data": {
      "text/plain": [
       "Index(['F275W', 'F336W', 'F438W', 'F555W', 'F814W', 'F547M', 'F657N',\n",
       "       'Metal(Zo)', 'Mass (Mo)', 'Age(yr)', 'Ioni (log)', 'Mup (Mo)',\n",
       "       'Neb_gas (bol)', 'log_age'],\n",
       "      dtype='object')"
      ]
     },
     "execution_count": 53,
     "metadata": {},
     "output_type": "execute_result"
    }
   ],
   "source": [
    "data.columns"
   ]
  },
  {
   "cell_type": "code",
   "execution_count": 62,
   "metadata": {},
   "outputs": [
    {
     "data": {
      "text/plain": [
       "array([1.0000000e+05, 6.8998205e+00])"
      ]
     },
     "execution_count": 62,
     "metadata": {},
     "output_type": "execute_result"
    }
   ],
   "source": [
    "X_train.min(0)\n",
    "X_train.max(0)"
   ]
  },
  {
   "cell_type": "code",
   "execution_count": 71,
   "metadata": {},
   "outputs": [
    {
     "name": "stdout",
     "output_type": "stream",
     "text": [
      "Instantiation. V 0.17\n",
      "train and test sets are obtained by splitting X_train and y_train.\n",
      "input test sets are not used.\n",
      "Training set size = 8000, Test set size = 2000\n",
      "Train data scaled. \n",
      "Test data scaled. \n",
      "Training set size = 8000, Test set size = 2000\n",
      "Training set size = 8000, Test set size = 2000\n",
      "Regression Model SK_ANN\n",
      "Entrenando red lalala...\n",
      "Training 2 inputs for 7 outputs with 8000 data\n",
      "RM trained, with 2001 iterations. Score = 0.080\n",
      "MLPRegressor(activation='tanh', alpha=0.0001, batch_size='auto', beta_1=0.9,\n",
      "       beta_2=0.999, early_stopping=False, epsilon=1e-08,\n",
      "       hidden_layer_sizes=(100, 100), learning_rate='constant',\n",
      "       learning_rate_init=0.001, max_iter=2000, momentum=0.9,\n",
      "       n_iter_no_change=10, nesterovs_momentum=True, power_t=0.5,\n",
      "       random_state=None, shuffle=True, solver='lbfgs', tol=1e-06,\n",
      "       validation_fraction=0.1, verbose=False, warm_start=False)\n",
      "Training time 176.4 s.\n",
      "TODO BIEN!\n",
      "Predicting from 2 inputs to 7 outputs using 2000 data in 0.01 secs.\n",
      "Guardando red y muestra de entrenamiento...\n",
      "RM save to lalala.mwinai_sk\n",
      "[0.07980236055497825]\n"
     ]
    }
   ],
   "source": [
    "data = pd.read_csv(\"all_data_good.csv\")\n",
    "del data['Unnamed: 0']\n",
    "data[\"log_age\"] = np.log10(data[\"Age(yr)\"])\n",
    "sub_data = data.loc[data['Metal(Zo)'] == 0.013999999999999999]\n",
    "X_train = sub_data[[\"Mass (Mo)\", \"log_age\"]].to_numpy()\n",
    "Y_train = sub_data[['F275W', 'F336W', 'F438W', 'F555W', 'F814W', 'F547M', 'F657N']].to_numpy()\n",
    "            \n",
    "ANN_name = 'lalala'\n",
    "activation = 'tanh'\n",
    "solver =  \"adam\"\n",
    "RM = mw.manage_RM(RM_type = 'SK_ANN', X_train=X_train, y_train=Y_train,\n",
    "                              scaling=True, clear_session=True, split_ratio = 0.5, verbose = False)\n",
    "            \n",
    "RM.init_RM(hidden_layer_sizes = (100,100), tol = 1e-6, max_iter = 2000, activation = activation,\n",
    "                       solver = solver)\n",
    "print(\"Entrenando red {}...\".format(ANN_name))\n",
    "RM.train_RM()\n",
    "print(\"TODO BIEN!\")\n",
    "RM.predict()\n",
    "print(\"Guardando red y muestra de entrenamiento...\")\n",
    "RM.save_RM(ANN_name, save_train = True, save_test = True)\n",
    "\n",
    "\n",
    "\n",
    "print(RM.train_score)"
   ]
  },
  {
   "cell_type": "code",
   "execution_count": 68,
   "metadata": {},
   "outputs": [
    {
     "name": "stdout",
     "output_type": "stream",
     "text": [
      "Predicting from 2 inputs to 7 outputs using 20000 data in 0.12 secs.\n",
      "Guardando red y muestra de entrenamiento...\n",
      "RM save to lalala.mwinai_sk\n",
      "[0.08584599396322812]\n"
     ]
    }
   ],
   "source": [
    "RM.predict()\n",
    "print(\"Guardando red y muestra de entrenamiento...\")\n",
    "RM.save_RM(ANN_name, save_train = True, save_test = True)\n",
    "\n",
    "\n",
    "\n",
    "print(RM.train_score)"
   ]
  },
  {
   "cell_type": "code",
   "execution_count": 23,
   "metadata": {},
   "outputs": [
    {
     "name": "stdout",
     "output_type": "stream",
     "text": [
      "[0.8238779491729838]\n"
     ]
    }
   ],
   "source": [
    "print(RM.train_score)"
   ]
  },
  {
   "cell_type": "code",
   "execution_count": 69,
   "metadata": {},
   "outputs": [
    {
     "name": "stderr",
     "output_type": "stream",
     "text": [
      "C:\\Users\\Rogelio\\Anaconda3\\lib\\site-packages\\ipykernel_launcher.py:8: SettingWithCopyWarning: \n",
      "A value is trying to be set on a copy of a slice from a DataFrame.\n",
      "Try using .loc[row_indexer,col_indexer] = value instead\n",
      "\n",
      "See the caveats in the documentation: http://pandas.pydata.org/pandas-docs/stable/user_guide/indexing.html#returning-a-view-versus-a-copy\n",
      "  \n"
     ]
    }
   ],
   "source": [
    "data = pd.read_csv(\"NGC7793W_obs_wth_halpha\")\n",
    "dist_modulu = 27.68\n",
    "\n",
    "\n",
    "a = data.loc[data['bst_mass'] >=  1000]\n",
    "targets = a.loc[(a['bst_age'] >=  1e6) & (a['bst_age'] <=  8e6)]\n",
    "\n",
    "targets['log_age'] = np.log10(targets['bst_age']) \n",
    "\n",
    "obs_1 = targets.loc[targets['ID_1'] == 513].copy()\n",
    "obs_2 = targets.loc[targets['ID_1'] == 1252].copy()\n",
    "target_phot = obs_1[['F275W_1', 'F336W_1', 'F438W_1', 'F555W_1', 'F814W_1','rw_F547M', 'rw_F657N']].to_numpy()\n",
    "target_phot2 = obs_2[['F275W_1', 'F336W_1', 'F438W_1', 'F555W_1', 'F814W_1', 'rw_F547M', 'rw_F657N']].to_numpy()\n",
    "target_phot = target_phot - 27.68\n",
    "\n",
    "target_error = obs_1[['F275W_err_1', 'F336W_err', \n",
    "               'F438W_err', 'F555W_err_1', 'F814W_err_1','rw_F547M_err' ,'rw_F657N_err']].to_numpy()"
   ]
  },
  {
   "cell_type": "code",
   "execution_count": 72,
   "metadata": {},
   "outputs": [
    {
     "data": {
      "image/png": "[encoded data removed]",
      "text/plain": [
       "<Figure size 288x1512 with 7 Axes>"
      ]
     },
     "metadata": {
      "needs_background": "light"
     },
     "output_type": "display_data"
    }
   ],
   "source": [
    "def calidad_histo(model):\n",
    "    f, axes = plt.subplots(RM.N_out, 1, figsize=(4, 3*RM.N_out))\n",
    "    red_calidad = model - RM.y_test_ori\n",
    "    \n",
    "    for i, ax in enumerate(axes.ravel()):\n",
    "        x = red_calidad[:,i]\n",
    "        ax.hist(x, bins=np.linspace(-4, 4, 100))\n",
    "    \n",
    "model = RM.pred\n",
    "calidad_histo(model)"
   ]
  },
  {
   "cell_type": "code",
   "execution_count": 5,
   "metadata": {},
   "outputs": [],
   "source": [
    "def model(pop):\n",
    "    RM.set_test(pop)\n",
    "    RM.predict()\n",
    "    mod = RM.pred\n",
    "   \n",
    "    return mod\n",
    "\n",
    "\n"
   ]
  },
  {
   "cell_type": "code",
   "execution_count": 6,
   "metadata": {},
   "outputs": [
    {
     "name": "stdout",
     "output_type": "stream",
     "text": [
      "(2358, 4)\n"
     ]
    }
   ],
   "source": [
    "def fitness(population):\n",
    "    mod = model(population)\n",
    "    mask = ((population >= X_train.min(0)) & (population <= X_train.max(0))).sum(1) != X_train.shape[1]\n",
    "    fit = -np.sum(((mod[:] - target_phot))**2,1)\n",
    "    fit[mask] = -np.inf\n",
    "    return fit\n",
    "\n",
    "\n",
    "param_dim = X_train.shape\n",
    "Pop_number = 200000\n",
    "\n",
    "pop =  X_train.min(0) + ((X_train.max(0) - X_train.min(0)) * np.random.rand(Pop_number, param_dim[-1]))\n",
    "\n",
    "generations = 10\n",
    "M_bad = 10000\n",
    "N_good = 10\n",
    "target = -20\n",
    "p1 = pd.DataFrame(pop)\n",
    "p1.rename(columns={0: 'Mass', 1: 'Age', 2: 'Met'}, inplace=True)\n",
    "p1['distance'] = fitness(p1.to_numpy())\n",
    "p1.drop(p1[p1['distance'] < target].index, inplace=True)\n",
    "print(p1.shape)\n",
    "new_mass = p1['Mass'].max() - p1['Mass'].min()\n",
    "new_age = p1['Age'].max() - p1['Age'].min()\n",
    "new_met = p1['Met'].max() - p1['Met'].min()\n",
    "for gens in np.arange(generations):\n",
    "    selection = p1.sort_values('distance', ascending = False).head(N_good)\n",
    "    for index, row in selection.iterrows():\n",
    "        next_mass = row['Mass'].min() + ( np.random.randn(M_bad) * new_mass)\n",
    "        next_age = row['Age'].min() + (np.random.randn(M_bad) * new_age)\n",
    "        next_met = row['Met'].min() + (np.random.randn(M_bad) * new_met)\n",
    "        new_pop = pd.DataFrame(np.array([next_mass, next_age, next_met]))\n",
    "        new_pop = new_pop.T\n",
    "        new_pop.rename(columns={0: 'Mass', 1: 'Age', 2: 'Met'}, inplace=True)\n",
    "        new_pop['distance'] = fitness(new_pop.to_numpy())\n",
    "        new_pop.drop(new_pop[new_pop['distance'] < target].index, inplace = True)\n",
    "        p1 = p1.append(new_pop)\n"
   ]
  },
  {
   "cell_type": "code",
   "execution_count": 17,
   "metadata": {},
   "outputs": [
    {
     "data": {
      "text/plain": [
       "3094.1461793896183"
      ]
     },
     "execution_count": 17,
     "metadata": {},
     "output_type": "execute_result"
    }
   ],
   "source": [
    "#sel = selection.to_numpy()\n",
    "a = sel[0, :]\n",
    "row['Mass']"
   ]
  },
  {
   "cell_type": "code",
   "execution_count": 790,
   "metadata": {},
   "outputs": [
    {
     "name": "stdout",
     "output_type": "stream",
     "text": [
      "3120.0534649152883 6.813250220489676 0.008116843861571993\n",
      "   bst_mass\n",
      "9    1438.0     log_age\n",
      "9  6.778151\n"
     ]
    },
    {
     "data": {
      "image/png": "[encoded data removed]",
      "text/plain": [
       "<Figure size 547.2x547.2 with 9 Axes>"
      ]
     },
     "metadata": {
      "needs_background": "light"
     },
     "output_type": "display_data"
    }
   ],
   "source": [
    "print(p1['Mass'].mean(), p1['Age'].mean(), p1['Met'].mean())\n",
    "print(obs_1[['bst_mass']], obs_1[['log_age']])\n",
    "labels = ['Mass', 'log(age)', 'Met']\n",
    "f = corner.corner(p1[['Mass', 'Age', 'Met']], bins= 30, smooth=3, labels = labels,plot_datapoints=True)\n"
   ]
  },
  {
   "cell_type": "code",
   "execution_count": 767,
   "metadata": {},
   "outputs": [
    {
     "data": {
      "text/plain": [
       "(32263, 4)"
      ]
     },
     "execution_count": 767,
     "metadata": {},
     "output_type": "execute_result"
    }
   ],
   "source": [
    "p1.shape"
   ]
  },
  {
   "cell_type": "code",
   "execution_count": 570,
   "metadata": {},
   "outputs": [
    {
     "data": {
      "text/plain": [
       "10"
      ]
     },
     "execution_count": 570,
     "metadata": {},
     "output_type": "execute_result"
    }
   ],
   "source": [
    "len(selection)"
   ]
  },
  {
   "cell_type": "code",
   "execution_count": 235,
   "metadata": {},
   "outputs": [
    {
     "name": "stdout",
     "output_type": "stream",
     "text": [
      "Test data scaled. \n",
      "Training set size = 50918, Test set size = 2000\n",
      "Predicting from 3 inputs to 7 outputs using 2000 data in 0.01 secs.\n"
     ]
    }
   ],
   "source": [
    "pop = X_train.min(0) + (X_train.max(0) - X_train.min(0) * np.random.rand(Pop_number, param_dim[-1]))\n",
    "\n",
    "\n",
    "generations = 10\n",
    "M_bad = 100\n",
    "N_good = 50\n",
    "target = 10\n",
    "p1 = pd.DataFrame(pop)\n",
    "p1.rename(columns={0: 'Mass', 1: 'Age', 2: 'Met'}, inplace=True)\n",
    "p1['distance'] = fitness(p1.to_numpy())\n"
   ]
  },
  {
   "cell_type": "code",
   "execution_count": 256,
   "metadata": {},
   "outputs": [],
   "source": [
    "pop = X_train.min(0) + (X_train.max(0) - X_train.min(0) * np.random.rand(Pop_number, param_dim[-1]))"
   ]
  },
  {
   "cell_type": "code",
   "execution_count": 260,
   "metadata": {},
   "outputs": [
    {
     "data": {
      "text/plain": [
       "100999.25976082393"
      ]
     },
     "execution_count": 260,
     "metadata": {},
     "output_type": "execute_result"
    }
   ],
   "source": [
    "pop[:, 0].max()"
   ]
  },
  {
   "cell_type": "code",
   "execution_count": 332,
   "metadata": {},
   "outputs": [
    {
     "data": {
      "text/plain": [
       "array([9.90000000e+04, 8.99820502e-01, 1.30000000e-02])"
      ]
     },
     "execution_count": 332,
     "metadata": {},
     "output_type": "execute_result"
    }
   ],
   "source": [
    "X_train.max(0) - X_train.min(0)"
   ]
  },
  {
   "cell_type": "code",
   "execution_count": 433,
   "metadata": {},
   "outputs": [
    {
     "name": "stdout",
     "output_type": "stream",
     "text": [
      "Test data scaled. \n",
      "Training set size = 50918, Test set size = 2000\n",
      "Predicting from 3 inputs to 7 outputs using 2000 data in 0.01 secs.\n"
     ]
    },
    {
     "data": {
      "text/html": [
       "<div>\n",
       "<style scoped>\n",
       "    .dataframe tbody tr th:only-of-type {\n",
       "        vertical-align: middle;\n",
       "    }\n",
       "\n",
       "    .dataframe tbody tr th {\n",
       "        vertical-align: top;\n",
       "    }\n",
       "\n",
       "    .dataframe thead th {\n",
       "        text-align: right;\n",
       "    }\n",
       "</style>\n",
       "<table border=\"1\" class=\"dataframe\">\n",
       "  <thead>\n",
       "    <tr style=\"text-align: right;\">\n",
       "      <th></th>\n",
       "      <th>Mass</th>\n",
       "      <th>Age</th>\n",
       "      <th>Met</th>\n",
       "      <th>distance</th>\n",
       "    </tr>\n",
       "  </thead>\n",
       "  <tbody>\n",
       "    <tr>\n",
       "      <td>0</td>\n",
       "      <td>2129.158067</td>\n",
       "      <td>6.829463</td>\n",
       "      <td>0.011063</td>\n",
       "      <td>-18.448049</td>\n",
       "    </tr>\n",
       "    <tr>\n",
       "      <td>10</td>\n",
       "      <td>3320.690398</td>\n",
       "      <td>6.048011</td>\n",
       "      <td>0.002810</td>\n",
       "      <td>-33.248940</td>\n",
       "    </tr>\n",
       "    <tr>\n",
       "      <td>27</td>\n",
       "      <td>1837.529474</td>\n",
       "      <td>6.013276</td>\n",
       "      <td>0.008320</td>\n",
       "      <td>-22.417783</td>\n",
       "    </tr>\n",
       "    <tr>\n",
       "      <td>30</td>\n",
       "      <td>3612.293995</td>\n",
       "      <td>6.221480</td>\n",
       "      <td>0.001061</td>\n",
       "      <td>-41.220442</td>\n",
       "    </tr>\n",
       "    <tr>\n",
       "      <td>43</td>\n",
       "      <td>7198.359664</td>\n",
       "      <td>6.310309</td>\n",
       "      <td>0.002338</td>\n",
       "      <td>-68.538803</td>\n",
       "    </tr>\n",
       "    <tr>\n",
       "      <td>...</td>\n",
       "      <td>...</td>\n",
       "      <td>...</td>\n",
       "      <td>...</td>\n",
       "      <td>...</td>\n",
       "    </tr>\n",
       "    <tr>\n",
       "      <td>1972</td>\n",
       "      <td>7312.452280</td>\n",
       "      <td>6.753625</td>\n",
       "      <td>0.010262</td>\n",
       "      <td>-82.119576</td>\n",
       "    </tr>\n",
       "    <tr>\n",
       "      <td>1975</td>\n",
       "      <td>3422.791050</td>\n",
       "      <td>6.456097</td>\n",
       "      <td>0.003917</td>\n",
       "      <td>-42.366051</td>\n",
       "    </tr>\n",
       "    <tr>\n",
       "      <td>1984</td>\n",
       "      <td>1228.119215</td>\n",
       "      <td>6.521537</td>\n",
       "      <td>0.012527</td>\n",
       "      <td>-33.106088</td>\n",
       "    </tr>\n",
       "    <tr>\n",
       "      <td>1989</td>\n",
       "      <td>2794.731374</td>\n",
       "      <td>6.594762</td>\n",
       "      <td>0.007774</td>\n",
       "      <td>-45.280827</td>\n",
       "    </tr>\n",
       "    <tr>\n",
       "      <td>1991</td>\n",
       "      <td>9503.736722</td>\n",
       "      <td>6.365680</td>\n",
       "      <td>0.003512</td>\n",
       "      <td>-95.486821</td>\n",
       "    </tr>\n",
       "  </tbody>\n",
       "</table>\n",
       "<p>178 rows × 4 columns</p>\n",
       "</div>"
      ],
      "text/plain": [
       "             Mass       Age       Met   distance\n",
       "0     2129.158067  6.829463  0.011063 -18.448049\n",
       "10    3320.690398  6.048011  0.002810 -33.248940\n",
       "27    1837.529474  6.013276  0.008320 -22.417783\n",
       "30    3612.293995  6.221480  0.001061 -41.220442\n",
       "43    7198.359664  6.310309  0.002338 -68.538803\n",
       "...           ...       ...       ...        ...\n",
       "1972  7312.452280  6.753625  0.010262 -82.119576\n",
       "1975  3422.791050  6.456097  0.003917 -42.366051\n",
       "1984  1228.119215  6.521537  0.012527 -33.106088\n",
       "1989  2794.731374  6.594762  0.007774 -45.280827\n",
       "1991  9503.736722  6.365680  0.003512 -95.486821\n",
       "\n",
       "[178 rows x 4 columns]"
      ]
     },
     "execution_count": 433,
     "metadata": {},
     "output_type": "execute_result"
    }
   ],
   "source": [
    "def fitness(population):\n",
    "    mod = model(population)\n",
    "    fit = -np.sum(((mod[:] - target_phot))**2,1)\n",
    "    return fit\n",
    "\n",
    "param_dim = X_train.shape\n",
    "Pop_number = 2000\n",
    "pop =  X_train.min(0) + ((X_train.max(0) - X_train.min(0)) * np.random.rand(Pop_number, param_dim[-1]))\n",
    "\n",
    "generations = 10\n",
    "M_bad = 100\n",
    "N_good = 50\n",
    "target = -100\n",
    "p1 = pd.DataFrame(pop)\n",
    "p1.rename(columns={0: 'Mass', 1: 'Age', 2: 'Met'}, inplace=True)\n",
    "p1['distance'] = fitness(p1.to_numpy())\n",
    "p1.drop(p1[p1['distance'] < target].index, inplace=True)\n",
    "p1"
   ]
  },
  {
   "cell_type": "code",
   "execution_count": 411,
   "metadata": {},
   "outputs": [
    {
     "name": "stdout",
     "output_type": "stream",
     "text": [
      "Test data scaled. \n",
      "Training set size = 50918, Test set size = 2000\n",
      "Predicting from 3 inputs to 7 outputs using 2000 data in 0.01 secs.\n"
     ]
    },
    {
     "data": {
      "text/plain": [
       "-4602.070612635475"
      ]
     },
     "execution_count": 411,
     "metadata": {},
     "output_type": "execute_result"
    }
   ],
   "source": [
    "def fitness(population):\n",
    "    mod = model(population)\n",
    "    fit = -np.sum(((mod[:] - target_phot))**2,1)\n",
    "    fit[mask] = -np.inf\n",
    "    return fit\n",
    "\n",
    "param_dim = X_train.shape\n",
    "Pop_number = 2000\n",
    "pop =  X_train.min(0) + ((X_train.max(0) - X_train.min(0)) * np.random.rand(Pop_number, param_dim[-1]))\n",
    "\n",
    "generations = 10\n",
    "M_bad = 100\n",
    "N_good = 50\n",
    "\n",
    "p1 = pd.DataFrame(pop)\n",
    "p1.rename(columns={0: 'Mass', 1: 'Age', 2: 'Met'}, inplace=True)\n",
    "p1['distance'] = fitness(p1.to_numpy())\n",
    "p1['distance'].max()\n",
    "\n"
   ]
  },
  {
   "cell_type": "code",
   "execution_count": 413,
   "metadata": {},
   "outputs": [
    {
     "data": {
      "image/png": "[encoded data removed]",
      "text/plain": [
       "<Figure size 432x288 with 1 Axes>"
      ]
     },
     "metadata": {
      "needs_background": "light"
     },
     "output_type": "display_data"
    }
   ],
   "source": [
    "plt.hist(p1['distance'], bins = 100);"
   ]
  },
  {
   "cell_type": "code",
   "execution_count": 593,
   "metadata": {},
   "outputs": [
    {
     "name": "stdout",
     "output_type": "stream",
     "text": [
      "1885.2787928983216\n"
     ]
    }
   ],
   "source": [
    "param_dim = X_train.shape\n",
    "Pop_number = 100000\n",
    "\n",
    "\n",
    "generations = 100\n",
    "M_bad = 1000\n",
    "N_good = 50\n",
    "target = -30\n",
    "p1 = pd.DataFrame(pop)\n",
    "p1.rename(columns={0: 'Mass', 1: 'Age', 2: 'Met'}, inplace=True)\n",
    "p1['distance'] = fitness(p1.to_numpy())\n",
    "p1.drop(p1[p1['distance'] < target].index, inplace=True)\n",
    "new_mass = p1['Mass'].max() - p1['Mass'].min()\n",
    "new_age = p1['Age'].max() - p1['Age'].min()\n",
    "new_met = p1['Met'].max() - p1['Met'].min()\n",
    "for gens in np.arange(generations):\n",
    "    selection = p1.sort_values('distance', ascending = False).head(N_good)\n",
    "    for index, row in selection.iterrows():\n",
    "        next_mass = row['Mass'].min() + ( np.random.randn(M_bad) * new_mass)\n",
    "        print(row['Mass'])\n",
    "        next_age = row['Age'] + (np.random.randn(M_bad) * new_age)\n",
    "        next_met = row['Met'] + np.random.randn(M_bad) * new_met\n",
    "        break\n",
    "    break"
   ]
  },
  {
   "cell_type": "code",
   "execution_count": 594,
   "metadata": {},
   "outputs": [
    {
     "name": "stdout",
     "output_type": "stream",
     "text": [
      "-16787.4296256987\n",
      "18010.301612326843\n",
      "1483.1814458346576\n"
     ]
    },
    {
     "data": {
      "image/png": "[encoded data removed]",
      "text/plain": [
       "<Figure size 432x288 with 1 Axes>"
      ]
     },
     "metadata": {
      "needs_background": "light"
     },
     "output_type": "display_data"
    }
   ],
   "source": [
    "plt.hist(next_mass)\n",
    "print(next_mass.min())\n",
    "print(next_mass.max())\n",
    "print(next_mass.mean())"
   ]
  },
  {
   "cell_type": "code",
   "execution_count": 615,
   "metadata": {},
   "outputs": [
    {
     "data": {
      "text/plain": [
       "23    -18.338501\n",
       "43    -22.398407\n",
       "45    -26.547549\n",
       "50    -20.876412\n",
       "64    -12.202890\n",
       "         ...    \n",
       "777   -29.612172\n",
       "800    -6.857209\n",
       "808   -19.617234\n",
       "841   -28.395713\n",
       "977   -13.151256\n",
       "Name: distance, Length: 2408, dtype: float64"
      ]
     },
     "execution_count": 615,
     "metadata": {},
     "output_type": "execute_result"
    }
   ],
   "source": [
    "p1['distance']"
   ]
  },
  {
   "cell_type": "code",
   "execution_count": 638,
   "metadata": {},
   "outputs": [
    {
     "data": {
      "text/plain": [
       "(6899,)"
      ]
     },
     "execution_count": 638,
     "metadata": {},
     "output_type": "execute_result"
    }
   ],
   "source": [
    "a = p1['Mass'].to_numpy()\n",
    "a.shape"
   ]
  },
  {
   "cell_type": "code",
   "execution_count": 686,
   "metadata": {},
   "outputs": [],
   "source": [
    "pop =  X_train.min(0) + ((X_train.max(0) - X_train.min(0)) * np.random.rand(Pop_number, param_dim[-1]))\n",
    "p1 = pd.DataFrame(pop)\n",
    "p1.rename(columns={0: 'Mass', 1: 'Age', 2: 'Met'}, inplace=True)\n",
    "p1['distance'] = fitness(p1.to_numpy())\n",
    "p1.drop(p1[p1['distance'] < target].index, inplace=True)\n",
    "new_mass = p1['Mass'].max() - p1['Mass'].min()\n",
    "new_age = p1['Age'].max() - p1['Age'].min()\n",
    "new_met = p1['Met'].max() - p1['Met'].min()\n",
    "sel = p1.to_numpy()"
   ]
  },
  {
   "cell_type": "code",
   "execution_count": 673,
   "metadata": {},
   "outputs": [],
   "source": [
    "N_good = 10\n",
    "mass_sort = np.sort(sel[:,0])\n",
    "mass_sort = mass_sort[::-1]\n",
    "age_sort = np.sort(sel[:, 1])\n",
    "age_sort = age_sort[::-1]\n",
    "met_sort = np.sort(sel[:, 2])\n",
    "met_sort = met_sort[::-1]\n",
    "selection = np.array([mass_sort[:N_good],age_sort[:N_good],met_sort[:N_good]]).T"
   ]
  },
  {
   "cell_type": "code",
   "execution_count": 674,
   "metadata": {},
   "outputs": [
    {
     "data": {
      "text/plain": [
       "(10, 3)"
      ]
     },
     "execution_count": 674,
     "metadata": {},
     "output_type": "execute_result"
    }
   ],
   "source": [
    "selection.shape"
   ]
  },
  {
   "cell_type": "code",
   "execution_count": 654,
   "metadata": {},
   "outputs": [],
   "source": [
    "var_mass = pop[:, 0].max() - pop[:, 0].min()\n",
    "var_age = pop[:, 1].max() - pop[:, 1].min()\n",
    "var_met = pop[:, 2].max() - pop[:, 2].min()"
   ]
  },
  {
   "cell_type": "code",
   "execution_count": 657,
   "metadata": {},
   "outputs": [],
   "source": [
    "new_mass = selection[:, 0].min() + (var_mass * np.random.randn(M_bad))\n",
    "new_age = selection[:, 1].min() + (var_age * np.random.randn(M_bad))\n",
    "new_met = selection[:, 2].min() + (var_met * np.random.randn(M_bad))"
   ]
  },
  {
   "cell_type": "code",
   "execution_count": 667,
   "metadata": {},
   "outputs": [],
   "source": [
    "selection = 0"
   ]
  },
  {
   "cell_type": "code",
   "execution_count": 659,
   "metadata": {},
   "outputs": [
    {
     "data": {
      "text/plain": [
       "(3, 1000)"
      ]
     },
     "execution_count": 659,
     "metadata": {},
     "output_type": "execute_result"
    }
   ],
   "source": [
    "new_pop = np.array([new_mass, new_age, new_met])\n",
    "new_pop.shape"
   ]
  },
  {
   "cell_type": "code",
   "execution_count": 662,
   "metadata": {},
   "outputs": [
    {
     "data": {
      "text/plain": [
       "(10000,)"
      ]
     },
     "execution_count": 662,
     "metadata": {},
     "output_type": "execute_result"
    }
   ],
   "source": [
    "mass_sort[::N_good].shape"
   ]
  },
  {
   "cell_type": "code",
   "execution_count": 676,
   "metadata": {},
   "outputs": [],
   "source": [
    "a = p1['distance'].to_numpy()"
   ]
  },
  {
   "cell_type": "code",
   "execution_count": 692,
   "metadata": {},
   "outputs": [],
   "source": [
    "pop =  X_train.min(0) + ((X_train.max(0) - X_train.min(0)) * np.random.rand(Pop_number, param_dim[-1]))\n",
    "p1 = pd.DataFrame(pop)\n",
    "p1.rename(columns={0: 'Mass', 1: 'Age', 2: 'Met'}, inplace=True)\n",
    "p1['distance'] = fitness(p1.to_numpy())\n",
    "sel = p1.to_numpy()"
   ]
  },
  {
   "cell_type": "code",
   "execution_count": 696,
   "metadata": {},
   "outputs": [
    {
     "data": {
      "text/plain": [
       "array([-1.63656426, -1.69659622, -1.70001416, -1.71660101, -1.72539764,\n",
       "       -1.75029071, -1.76605859, -1.78508731, -1.80833401, -1.88696608])"
      ]
     },
     "execution_count": 696,
     "metadata": {},
     "output_type": "execute_result"
    }
   ],
   "source": [
    "a = np.sort(sel[:, 3])\n",
    "a = a[::-1]\n",
    "a[:10]"
   ]
  },
  {
   "cell_type": "code",
   "execution_count": 700,
   "metadata": {},
   "outputs": [],
   "source": [
    "b = sel.argsort()"
   ]
  },
  {
   "cell_type": "code",
   "execution_count": 703,
   "metadata": {},
   "outputs": [
    {
     "data": {
      "text/plain": [
       "array([0, 0, 0, ..., 0, 0, 0], dtype=int64)"
      ]
     },
     "execution_count": 703,
     "metadata": {},
     "output_type": "execute_result"
    }
   ],
   "source": [
    "b[:, 3]"
   ]
  },
  {
   "cell_type": "code",
   "execution_count": 710,
   "metadata": {},
   "outputs": [],
   "source": [
    "a = sel[b[:,3]]\n",
    "a = a[::-1]"
   ]
  },
  {
   "cell_type": "code",
   "execution_count": 714,
   "metadata": {},
   "outputs": [],
   "source": [
    "columnIndex = 3\n",
    "sortedArr = sel[sel[:,columnIndex].argsort()]"
   ]
  },
  {
   "cell_type": "code",
   "execution_count": 717,
   "metadata": {},
   "outputs": [],
   "source": [
    "sortedArr[:, 3]\n",
    "a = sortedArr[::-1]"
   ]
  },
  {
   "cell_type": "code",
   "execution_count": 719,
   "metadata": {},
   "outputs": [
    {
     "data": {
      "text/plain": [
       "array([  -1.63656426,   -1.69659622,   -1.70001416, ..., -355.23965952,\n",
       "       -355.32896113, -355.45588135])"
      ]
     },
     "execution_count": 719,
     "metadata": {},
     "output_type": "execute_result"
    }
   ],
   "source": [
    "a[:,3]"
   ]
  },
  {
   "cell_type": "code",
   "execution_count": 720,
   "metadata": {},
   "outputs": [
    {
     "data": {
      "text/plain": [
       "array([1327.43909371, 1665.08428503, 2231.34488006, 1137.13233256,\n",
       "       1414.06123786, 2665.16856902, 1015.5904566 , 3134.92487149,\n",
       "       1961.05681752, 2499.57874856])"
      ]
     },
     "execution_count": 720,
     "metadata": {},
     "output_type": "execute_result"
    }
   ],
   "source": [
    "a[:10, 0]"
   ]
  },
  {
   "cell_type": "code",
   "execution_count": 721,
   "metadata": {},
   "outputs": [
    {
     "data": {
      "text/plain": [
       "array([[ 1.32743909e+03,  6.73058240e+00,  2.89813525e-03,\n",
       "        -1.63656426e+00],\n",
       "       [ 1.66508429e+03,  6.73315841e+00,  2.66070615e-03,\n",
       "        -1.69659622e+00],\n",
       "       [ 2.23134488e+03,  6.73458025e+00,  3.65503599e-03,\n",
       "        -1.70001416e+00],\n",
       "       ...,\n",
       "       [ 9.66335500e+04,  6.53510233e+00,  1.78337603e-03,\n",
       "        -3.55239660e+02],\n",
       "       [ 9.90521668e+04,  6.54123796e+00,  1.76318406e-03,\n",
       "        -3.55328961e+02],\n",
       "       [ 9.90926236e+04,  6.52092385e+00,  1.64541500e-03,\n",
       "        -3.55455881e+02]])"
      ]
     },
     "execution_count": 721,
     "metadata": {},
     "output_type": "execute_result"
    }
   ],
   "source": [
    "a"
   ]
  },
  {
   "cell_type": "code",
   "execution_count": 727,
   "metadata": {},
   "outputs": [],
   "source": [
    "selection = np.array([sortedArr[:10, 0], sortedArr[:10, 1], sortedArr[:10, 2]]).T"
   ]
  },
  {
   "cell_type": "code",
   "execution_count": 726,
   "metadata": {},
   "outputs": [
    {
     "data": {
      "text/plain": [
       "10"
      ]
     },
     "execution_count": 726,
     "metadata": {},
     "output_type": "execute_result"
    }
   ],
   "source": [
    "len(selection.T)"
   ]
  },
  {
   "cell_type": "code",
   "execution_count": 734,
   "metadata": {},
   "outputs": [],
   "source": [
    "N_worst = 100\n",
    "for i in range(0, len(selection)):\n",
    "#Creating new data around the distribution of values of N_best params.\n",
    "    new_mass = selection[:, 0].min() + (var_mass * np.random.randn(N_worst))\n",
    "    new_age = selection[:, 1].min() + (var_age * np.random.randn(N_worst))\n",
    "    new_met = selection[:, 2].min() + (var_met * np.random.randn(N_worst))\n",
    "                \n",
    "    new_pop = np.array([new_mass, new_age, new_met]).T"
   ]
  },
  {
   "cell_type": "code",
   "execution_count": 740,
   "metadata": {},
   "outputs": [],
   "source": [
    "def fitness(population):\n",
    "    mod = model(population)\n",
    "    mask = ((population >= X_train.min(0)) & (population <= X_train.max(0))).sum(1) != X_train.shape[1]\n",
    "    fit = -np.sum(((mod[:] - target_phot))**2,1)\n",
    "    fit[mask] = -np.inf\n",
    "    return fit\n",
    "\n",
    "new_pop_fit = fitness(new_pop)"
   ]
  },
  {
   "cell_type": "code",
   "execution_count": 741,
   "metadata": {},
   "outputs": [
    {
     "data": {
      "text/plain": [
       "array([         -inf,          -inf,          -inf,          -inf,\n",
       "                -inf,          -inf,          -inf,          -inf,\n",
       "                -inf,          -inf,          -inf,          -inf,\n",
       "                -inf,          -inf,          -inf,          -inf,\n",
       "                -inf,          -inf,          -inf,          -inf,\n",
       "                -inf,          -inf,          -inf,          -inf,\n",
       "                -inf,          -inf,          -inf,          -inf,\n",
       "                -inf,          -inf,          -inf,          -inf,\n",
       "                -inf,          -inf,          -inf,          -inf,\n",
       "                -inf,          -inf,          -inf,          -inf,\n",
       "                -inf,          -inf,          -inf,          -inf,\n",
       "                -inf,          -inf,          -inf,          -inf,\n",
       "                -inf,          -inf,          -inf,          -inf,\n",
       "                -inf,          -inf,          -inf,          -inf,\n",
       "                -inf,          -inf,          -inf,          -inf,\n",
       "                -inf,          -inf,          -inf,          -inf,\n",
       "                -inf,          -inf, -252.58068612,          -inf,\n",
       "                -inf,          -inf,          -inf,          -inf,\n",
       "                -inf,          -inf,          -inf, -248.60338174,\n",
       "                -inf,          -inf,          -inf,          -inf,\n",
       "                -inf,          -inf,          -inf,          -inf,\n",
       "                -inf,          -inf,          -inf,          -inf,\n",
       "                -inf,          -inf,          -inf,          -inf,\n",
       "       -266.31361209,          -inf,          -inf,          -inf,\n",
       "                -inf,          -inf,          -inf,          -inf])"
      ]
     },
     "execution_count": 741,
     "metadata": {},
     "output_type": "execute_result"
    }
   ],
   "source": [
    "new_pop_fit"
   ]
  },
  {
   "cell_type": "code",
   "execution_count": 762,
   "metadata": {},
   "outputs": [
    {
     "data": {
      "text/plain": [
       "(100000, 3)"
      ]
     },
     "execution_count": 762,
     "metadata": {},
     "output_type": "execute_result"
    }
   ],
   "source": [
    "pop =  X_train.min(0) + ((X_train.max(0) - X_train.min(0)) * np.random.rand(Pop_number, param_dim[-1]))\n",
    "pop.shape"
   ]
  },
  {
   "cell_type": "code",
   "execution_count": 768,
   "metadata": {},
   "outputs": [
    {
     "data": {
      "text/plain": [
       "array([[5.53325369e+04, 6.64354205e+00, 8.83592389e-03],\n",
       "       [5.49434351e+04, 6.38121327e+00, 9.39662347e-03],\n",
       "       [4.43211339e+04, 6.80243563e+00, 1.35276159e-02],\n",
       "       ...,\n",
       "       [3.41199806e+04, 6.40398450e+00, 6.18918184e-03],\n",
       "       [2.19905838e+04, 6.35747118e+00, 5.47475044e-03],\n",
       "       [6.21593659e+04, 6.30228427e+00, 8.53196480e-03]])"
      ]
     },
     "execution_count": 768,
     "metadata": {},
     "output_type": "execute_result"
    }
   ],
   "source": [
    "np.random.seed(0)\n",
    "pop =  X_train.min(0) + ((X_train.max(0) - X_train.min(0)) * np.random.rand(Pop_number, param_dim[-1]))\n",
    "pop"
   ]
  },
  {
   "cell_type": "code",
   "execution_count": null,
   "metadata": {},
   "outputs": [],
   "source": []
  }
 ],
 "metadata": {
  "kernelspec": {
   "display_name": "Python 3",
   "language": "python",
   "name": "python3"
  },
  "language_info": {
   "codemirror_mode": {
    "name": "ipython",
    "version": 3
   },
   "file_extension": ".py",
   "mimetype": "text/x-python",
   "name": "python",
   "nbconvert_exporter": "python",
   "pygments_lexer": "ipython3",
   "version": "3.7.1"
  }
 },
 "nbformat": 4,
 "nbformat_minor": 2
}
